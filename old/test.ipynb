{
 "cells": [
  {
   "cell_type": "markdown",
   "metadata": {},
   "source": [
    "### Use Bidirectional LSTM to get sentiments for the movies with sequals"
   ]
  },
  {
   "cell_type": "markdown",
   "metadata": {},
   "source": [
    "#### Libraraies"
   ]
  },
  {
   "cell_type": "code",
   "execution_count": 2,
   "metadata": {},
   "outputs": [
    {
     "name": "stderr",
     "output_type": "stream",
     "text": [
      "2023-04-27 16:47:00.042242: I tensorflow/core/platform/cpu_feature_guard.cc:193] This TensorFlow binary is optimized with oneAPI Deep Neural Network Library (oneDNN) to use the following CPU instructions in performance-critical operations:  SSE4.1 SSE4.2 AVX AVX2 FMA\n",
      "To enable them in other operations, rebuild TensorFlow with the appropriate compiler flags.\n",
      "[nltk_data] Downloading package stopwords to\n",
      "[nltk_data]     /Users/daisukeyamada/nltk_data...\n",
      "[nltk_data]   Package stopwords is already up-to-date!\n"
     ]
    }
   ],
   "source": [
    "import data\n",
    "\n",
    "import pandas as pd\n",
    "import numpy as np\n",
    "import tensorflow as tf\n",
    "from tensorflow import keras\n",
    "from keras import models, losses"
   ]
  },
  {
   "cell_type": "markdown",
   "metadata": {},
   "source": [
    "#### 1. Load and compile Bidirectional LSTM defined and trained in *main.ipynb*"
   ]
  },
  {
   "cell_type": "code",
   "execution_count": 3,
   "metadata": {},
   "outputs": [
    {
     "name": "stderr",
     "output_type": "stream",
     "text": [
      "2023-04-27 16:47:06.236594: I tensorflow/core/platform/cpu_feature_guard.cc:193] This TensorFlow binary is optimized with oneAPI Deep Neural Network Library (oneDNN) to use the following CPU instructions in performance-critical operations:  SSE4.1 SSE4.2 AVX AVX2 FMA\n",
      "To enable them in other operations, rebuild TensorFlow with the appropriate compiler flags.\n"
     ]
    }
   ],
   "source": [
    "# load the model\n",
    "lstm = models.load_model('./saved_models/lstm', compile=False)\n",
    "\n",
    "# compile the model\n",
    "lstm.compile(\n",
    "    loss=losses.BinaryCrossentropy(),\n",
    "    optimizer='adam',\n",
    "    metrics=['accuracy']\n",
    ")"
   ]
  },
  {
   "cell_type": "markdown",
   "metadata": {},
   "source": [
    "#### 2. Pre-process data"
   ]
  },
  {
   "cell_type": "code",
   "execution_count": 18,
   "metadata": {},
   "outputs": [
    {
     "name": "stdout",
     "output_type": "stream",
     "text": [
      "Done: x has shape (399, 200)\n",
      "Found 99274 words\n",
      "6.904109589041096 5.488095238095238\n"
     ]
    }
   ],
   "source": [
    "# get dataframe\n",
    "hp0_path = './reviews/original/cars/2.csv'\n",
    "hp0_df = pd.read_csv(hp0_path)\n",
    "\n",
    "# parse text\n",
    "texts = data.parse_texts(hp0_df['Review'])\n",
    "\n",
    "# process df \n",
    "hp0_x, _ = data.preprocess_x(texts, 200)\n",
    "\n",
    "# df\n",
    "pred = [1 if i > 0.5 else 0 for i in lstm.predict(hp0_x, verbose=False)]\n",
    "df = pd.DataFrame ({\n",
    "    'text': texts,\n",
    "    'pred': pred,\n",
    "    'rating': list(hp0_df['Rating'].values)\n",
    "})\n",
    "\n",
    "import math\n",
    "\n",
    "sum_pos = 0\n",
    "cnt_pos = 0\n",
    "sum_neg = 0\n",
    "cnt_neg = 0\n",
    "\n",
    "for i in range(df.shape[0]):\n",
    "    r = list(df['rating'].values)[i]\n",
    "    s = list(df['pred'].values)[i]\n",
    "    if not math.isnan(r):\n",
    "        if s == 0:\n",
    "            sum_neg += int(r)\n",
    "            cnt_neg += 1\n",
    "        else:\n",
    "            sum_pos += int(r)\n",
    "            cnt_pos += 1\n",
    "print(sum_pos/cnt_pos, sum_neg/cnt_neg)"
   ]
  }
 ],
 "metadata": {
  "interpreter": {
   "hash": "88bb0f5aeba86b8857a89854e1b72d899daa3df0ccd17c65f10c2af66593c562"
  },
  "kernelspec": {
   "display_name": "Python 3.10.8 ('tf')",
   "language": "python",
   "name": "python3"
  },
  "language_info": {
   "codemirror_mode": {
    "name": "ipython",
    "version": 3
   },
   "file_extension": ".py",
   "mimetype": "text/x-python",
   "name": "python",
   "nbconvert_exporter": "python",
   "pygments_lexer": "ipython3",
   "version": "3.10.8"
  },
  "orig_nbformat": 4
 },
 "nbformat": 4,
 "nbformat_minor": 2
}
